{
 "cells": [
  {
   "cell_type": "markdown",
   "metadata": {},
   "source": [
    "# Testing de Sistemas Inteligentes"
   ]
  },
  {
   "cell_type": "code",
   "execution_count": 1,
   "metadata": {},
   "outputs": [],
   "source": [
    "import cv2\n",
    "\n",
    "# Read the video file\n",
    "video = cv2.VideoCapture('video.mp4')\n",
    "\n",
    "# Get the video frames' width and height for proper saving of videos\n",
    "frame_width = int(video.get(3))\n",
    "frame_height = int(video.get(4))\n",
    "\n",
    "# Video buffer\n",
    "hsv_video = cv2.VideoWriter('hsv_video.mp4', cv2.VideoWriter_fourcc(*'mp4v'), 30, (frame_width, frame_height))\n",
    "\n",
    "while(video.isOpened()):\n",
    "    # Capture frame-by-frame\n",
    "    ret, frame = video.read()\n",
    "\n",
    "    # Check if video is being read\n",
    "    if ret:\n",
    "        # Change color to HSV\n",
    "        hsv = cv2.cvtColor(frame, cv2.COLOR_BGR2HSV)\n",
    "\n",
    "        # Save and display the resulting frame\n",
    "        cv2.imshow('frame', hsv)\n",
    "        hsv_video.write(hsv)\n",
    "    else:\n",
    "        break\n",
    "\n",
    "# When everything is done, release the capture\n",
    "video.release()\n",
    "cv2.destroyAllWindows()"
   ]
  }
 ],
 "metadata": {
  "anaconda-cloud": {},
  "interpreter": {
   "hash": "a2c5d1f6f63b370e172e004b5a76d210117b2833acf0fa7b72d2fe5bd5591236"
  },
  "kernelspec": {
   "display_name": "Python 3.7.12 ('visionrobots')",
   "language": "python",
   "name": "python3"
  },
  "language_info": {
   "codemirror_mode": {
    "name": "ipython",
    "version": 3
   },
   "file_extension": ".py",
   "mimetype": "text/x-python",
   "name": "python",
   "nbconvert_exporter": "python",
   "pygments_lexer": "ipython3",
   "version": "3.7.12"
  }
 },
 "nbformat": 4,
 "nbformat_minor": 1
}
