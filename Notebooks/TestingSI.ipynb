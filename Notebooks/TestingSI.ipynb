{
 "cells": [
  {
   "cell_type": "markdown",
   "metadata": {},
   "source": [
    "# Testing de Sistemas Inteligentes"
   ]
  },
  {
   "cell_type": "code",
   "execution_count": 2,
   "metadata": {},
   "outputs": [],
   "source": [
    "import cv2\n",
    "\n",
    "# Read the video file\n",
    "video = cv2.VideoCapture('video.mp4')\n",
    "\n",
    "# Video buffer\n",
    "hsv_video = cv2.VideoWriter('hsv_video.avi', cv2.VideoWriter_fourcc(*'mp4'), 30, (640, 480))\n",
    "\n",
    "while(video.isOpened()):\n",
    "    # Capture frame-by-frame\n",
    "    ret, frame = video.read()\n",
    "\n",
    "    # Check if video is being read\n",
    "    if ret:\n",
    "        # Change color to HSV\n",
    "        hsv = cv2.cvtColor(frame, cv2.COLOR_BGR2HSV)\n",
    "\n",
    "        # Display the resulting frame\n",
    "        cv2.imshow('frame', hsv)\n",
    "        if cv2.waitKey(1) & 0xFF == ord('q'):\n",
    "            break\n",
    "    else:\n",
    "        break\n",
    "\n",
    "# When everything is done, release the capture\n",
    "video.release()\n",
    "\n",
    "cv2.destroyAllWindows()"
   ]
  }
 ],
 "metadata": {
  "anaconda-cloud": {},
  "interpreter": {
   "hash": "a2c5d1f6f63b370e172e004b5a76d210117b2833acf0fa7b72d2fe5bd5591236"
  },
  "kernelspec": {
   "display_name": "Python 3.7.12 ('visionrobots')",
   "language": "python",
   "name": "python3"
  },
  "language_info": {
   "codemirror_mode": {
    "name": "ipython",
    "version": 3
   },
   "file_extension": ".py",
   "mimetype": "text/x-python",
   "name": "python",
   "nbconvert_exporter": "python",
   "pygments_lexer": "ipython3",
   "version": "3.7.12"
  }
 },
 "nbformat": 4,
 "nbformat_minor": 1
}
